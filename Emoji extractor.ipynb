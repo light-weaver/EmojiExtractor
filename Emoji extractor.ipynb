{
 "cells": [
  {
   "cell_type": "code",
   "execution_count": null,
   "metadata": {},
   "outputs": [],
   "source": [
    "import emoji\n",
    "import regex\n",
    "import numpy as np\n",
    "from collections import Counter\n",
    "import pandas as pd\n",
    "import plotly.express as ex"
   ]
  },
  {
   "cell_type": "code",
   "execution_count": null,
   "metadata": {},
   "outputs": [],
   "source": [
    "filename = \"discussion.txt\"  # name of the whatsapp chat file\n",
    "names = [\"person1\",\"person2\"]  # names of the people involved\n",
    "\n",
    "\n",
    "f = open(filename,\"r\", encoding='utf-8')\n",
    "text = f.readlines()\n",
    "f.close()"
   ]
  },
  {
   "cell_type": "code",
   "execution_count": null,
   "metadata": {},
   "outputs": [],
   "source": [
    "def split_count(text):\n",
    "    emoji_list = []\n",
    "    data = regex.findall(r'\\X', text)\n",
    "    for word in data:\n",
    "        if any(char in emoji.UNICODE_EMOJI for char in word):\n",
    "            emoji_list.append(word)\n",
    "    return emoji_list"
   ]
  },
  {
   "cell_type": "code",
   "execution_count": null,
   "metadata": {},
   "outputs": [],
   "source": [
    "def emoji_list(text, name):\n",
    "    first = [message for message in text if name in message]\n",
    "    messages = [message.split(\"m - \") for message in first]\n",
    "    messages = [message for message in messages if len(message)==2]\n",
    "    messages = np.asarray(messages)\n",
    "    messages = messages[:,1].tolist()\n",
    "    emojis = split_count(\"\".join(messages))\n",
    "    return emojis"
   ]
  },
  {
   "cell_type": "code",
   "execution_count": null,
   "metadata": {},
   "outputs": [],
   "source": [
    "emojis = dict.fromkeys(names)\n",
    "for name in emojis:\n",
    "    emojis[name] = Counter(emoji_list(text, name))"
   ]
  },
  {
   "cell_type": "code",
   "execution_count": null,
   "metadata": {},
   "outputs": [],
   "source": [
    "for name in emojis:\n",
    "    print(\"Emojis used by \" + name + \": \" + str(sum(emojis[name].values())))"
   ]
  },
  {
   "cell_type": "code",
   "execution_count": null,
   "metadata": {},
   "outputs": [],
   "source": [
    "emojis = dict.fromkeys(names)\n",
    "for name in emojis:\n",
    "    emojis[name] = Counter(emoji_list(text, name)).most_common(10)\n"
   ]
  },
  {
   "cell_type": "code",
   "execution_count": null,
   "metadata": {},
   "outputs": [],
   "source": [
    "name = names[0]\n",
    "data = pd.DataFrame(emojis[name], columns = [\"emoji\", \"Frequency\"])\n",
    "fig = ex.bar(data, x='emoji', y='Frequency', title=\"Frequency of words used by \" + name)\n",
    "fig.update_layout(font_size=30)\n",
    "fig.show()"
   ]
  },
  {
   "cell_type": "code",
   "execution_count": null,
   "metadata": {},
   "outputs": [],
   "source": [
    "name = names[1]\n",
    "data = pd.DataFrame(emojis[name], columns = [\"emoji\", \"Frequency\"])\n",
    "fig = ex.bar(data, x='emoji', y='Frequency', title=\"Frequency of words used by \" + name)\n",
    "fig.update_layout(font_size=30)\n",
    "fig.show()"
   ]
  }
 ],
 "metadata": {
  "kernelspec": {
   "display_name": "emojiextractor",
   "language": "python",
   "name": "emojiextractor"
  },
  "language_info": {
   "codemirror_mode": {
    "name": "ipython",
    "version": 3
   },
   "file_extension": ".py",
   "mimetype": "text/x-python",
   "name": "python",
   "nbconvert_exporter": "python",
   "pygments_lexer": "ipython3",
   "version": "3.7.3"
  }
 },
 "nbformat": 4,
 "nbformat_minor": 2
}
